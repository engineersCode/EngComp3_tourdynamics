{
 "cells": [
  {
   "cell_type": "raw",
   "metadata": {},
   "source": [
    "Content under Creative Commons Attribution license CC-BY 4.0, code under BSD 3-Clause License © 2017 L.A. Barba, N.C. Clementi"
   ]
  },
  {
   "cell_type": "markdown",
   "metadata": {},
   "source": [
    "# Get with the oscillations\n",
    "\n",
    "So far, in this module of our course in _Engineering Computations_ you have learned to:\n",
    "\n",
    "* capture time histories of a body's position from images and video;\n",
    "* compute velocity and acceleration of a body, from known positions over time—i.e., take numerical derivatives;\n",
    "* find the motion description (position versus time) from acceleration data, stepping in time with Euler's method;\n",
    "* form the state vector and the vectorized form of a second-order dynamical system;\n",
    "* improve the simple free-fall model by adding air resistance.\n",
    "\n",
    "You also learned that Euler's method is a _first-order_ method: a Taylor series expansion shows that stepping in time with Euler makes an error—called the _truncation error_—proportional to the time increment, $\\Delta t$.\n",
    "\n",
    "In this lesson, you'll work with oscillating systems. Euler's method doesn't do very well with oscillating systems, but we'll show you a clever way to fix this. (The modified method is _still_ first order, however. We will also confirm the **order of convergence** by computing the error using different values of $\\Delta t$.\n",
    "\n",
    "As always, we will need our best-loved numerical Python libraries, and we'll also re-use the `eulerstep()` function from the [previous lesson](http://go.gwu.edu/engcomp3lesson2). So let's get that out of the way.\n"
   ]
  },
  {
   "cell_type": "code",
   "execution_count": 1,
   "metadata": {},
   "outputs": [],
   "source": [
    "import numpy\n",
    "from matplotlib import pyplot\n",
    "%matplotlib inline\n",
    "pyplot.rc('font', family='serif', size='14')"
   ]
  },
  {
   "cell_type": "code",
   "execution_count": 2,
   "metadata": {},
   "outputs": [],
   "source": [
    "def eulerstep(state, rhs, dt):\n",
    "    '''Update a state to the next time increment using Euler's method.\n",
    "    \n",
    "    Arguments\n",
    "    ---------\n",
    "    state : array of dependent variables\n",
    "    rhs   : function that computes the RHS of the DiffEq\n",
    "    dt    : float, time increment\n",
    "    \n",
    "    Returns\n",
    "    -------\n",
    "    next_state : array, updated after one time increment'''\n",
    "    \n",
    "    next_state = state + rhs(state) * dt\n",
    "    return next_state"
   ]
  },
  {
   "cell_type": "markdown",
   "metadata": {},
   "source": [
    "## Spring-mass system\n",
    "\n",
    "A prototypical mechanical system is a mass $m$ attached to a spring, in the simplest case without friction. The elastic constant of the spring, $k$, determines the restoring force it will apply to the mass when displaced by a distance $x$. The system then oscillates back and forth around its position of equilibrium.\n",
    "\n",
    "<div style=\"text-align: center;\">\n",
    "<img src=\"../images/spring-mass.png\" style=\"width: 400px;\"/>\n",
    "</div>\n",
    "\n",
    "<div style=\"text-align: center;\"> \n",
    "    <em>Simple spring-mass system, without friction.</em>\n",
    "</div>\n"
   ]
  },
  {
   "cell_type": "markdown",
   "metadata": {},
   "source": [
    "Newton's law applied to the friction-less spring-mass system is:\n",
    "\n",
    "\\begin{equation}\n",
    "-k x = m \\ddot{x}\n",
    "\\end{equation}\n",
    "\n",
    "Introducing the parameter $\\omega = \\sqrt{k/m}$, the equation of motion is rewriten as:\n",
    "\n",
    "\\begin{equation}\n",
    "\\ddot{x} + \\omega^2 x = 0\n",
    "\\end{equation}\n",
    "\n",
    "where a dot above a dependent variable denotes the time derivative. This is a second-order differential equation for the position $x$, having a known analytical solution that represents _simple harmonic motion_:\n",
    "\n",
    "$x(t) = x_0 \\cos(\\omega t)$\n",
    "\n",
    "The solution represents oscillations with period $P = 2 \\pi/ \\omega $  (the time between two peaks), and amplitude $x_0$."
   ]
  },
  {
   "cell_type": "markdown",
   "metadata": {},
   "source": [
    "### System in vector form\n",
    "\n",
    "It's useful to write a second-order differential equation as a set of two first-order equations: in this case, for position and velocity, respectively:\n",
    "\n",
    "\\begin{eqnarray}\n",
    "\\dot{x} &=& v \\nonumber\\\\\n",
    "\\dot{v} &=& -\\omega^2 x\n",
    "\\end{eqnarray}\n",
    "\n",
    "Like we did in [Lesson 2](http://go.gwu.edu/engcomp3lesson2) of this module, we write the state of the system as a two-dimensional vector,\n",
    "\n",
    "\\begin{equation}\n",
    "\\mathbf{x} = \\begin{bmatrix}\n",
    "x \\\\ v\n",
    "\\end{bmatrix},\n",
    "\\end{equation}\n",
    "\n",
    "and the differential equation in vector form:\n",
    "\n",
    "\\begin{equation}\n",
    "\\dot{\\mathbf{x}} = \\begin{bmatrix}\n",
    "v \\\\ -\\omega^2 x\n",
    "\\end{bmatrix}.\n",
    "\\end{equation}\n",
    "\n",
    "Several advantages come from writing the differential equation in vector form, both  theoretical and practical. In the study of dynamical systems, for example, the state vector lives in a state space called the _phase plane_, and many things can be learned from studying solutions to differential equations graphically on a phase plane.\n",
    "\n",
    "Practically, writing the equation in vector form results in more general, compact code. Let's write a function to obtain the right-hand side of the spring-mass differential equation, in vector form."
   ]
  },
  {
   "cell_type": "code",
   "execution_count": 3,
   "metadata": {},
   "outputs": [],
   "source": [
    "def springmass(state):\n",
    "    '''Computes the right-hand side of the spring-mass differential \n",
    "    equation, without friction.\n",
    "    \n",
    "    Arguments\n",
    "    ---------   \n",
    "    state : array of two dependent variables [x v]^T\n",
    "    \n",
    "    Returns \n",
    "    -------\n",
    "    derivs: array of two derivatives [v - ω*ω*x]^T\n",
    "    '''\n",
    "    \n",
    "    derivs = numpy.array([state[1], -ω**2*state[0]])\n",
    "    return derivs"
   ]
  },
  {
   "cell_type": "markdown",
   "metadata": {},
   "source": [
    "This worked example follows Reference [1], section 4.3 (note that the source is open access). We set the parameters of the system, choose a time interval equal to 1-20th of the oscillation period, and decide to solve the motion for a duration equal to 3 periods."
   ]
  },
  {
   "cell_type": "code",
   "execution_count": 4,
   "metadata": {
    "collapsed": true,
    "jupyter": {
     "outputs_hidden": true
    }
   },
   "outputs": [],
   "source": [
    "ω = 2\n",
    "period = 2*numpy.pi/ω\n",
    "dt = period/20  # we choose 20 time intervals per period \n",
    "T = 3*period    # solve for 3 periods\n",
    "N = round(T/dt)"
   ]
  },
  {
   "cell_type": "code",
   "execution_count": 5,
   "metadata": {},
   "outputs": [
    {
     "name": "stdout",
     "output_type": "stream",
     "text": [
      "60\n",
      "0.15707963267948966\n"
     ]
    }
   ],
   "source": [
    "print(N)\n",
    "print(dt)"
   ]
  },
  {
   "cell_type": "markdown",
   "metadata": {},
   "source": [
    "Next, set up the time array and initial conditions, initialize the solution array with zero values, and assign the initial values to the first elements of the solution array."
   ]
  },
  {
   "cell_type": "code",
   "execution_count": 6,
   "metadata": {
    "collapsed": true,
    "jupyter": {
     "outputs_hidden": true
    }
   },
   "outputs": [],
   "source": [
    "t = numpy.linspace(0, T, N)"
   ]
  },
  {
   "cell_type": "code",
   "execution_count": 7,
   "metadata": {
    "collapsed": true,
    "jupyter": {
     "outputs_hidden": true
    }
   },
   "outputs": [],
   "source": [
    "x0 = 2    # initial position\n",
    "v0 = 0    # initial velocity"
   ]
  },
  {
   "cell_type": "code",
   "execution_count": 8,
   "metadata": {
    "collapsed": true,
    "jupyter": {
     "outputs_hidden": true
    }
   },
   "outputs": [],
   "source": [
    "#initialize solution array\n",
    "num_sol = numpy.zeros([N,2])"
   ]
  },
  {
   "cell_type": "code",
   "execution_count": 9,
   "metadata": {
    "collapsed": true,
    "jupyter": {
     "outputs_hidden": true
    }
   },
   "outputs": [],
   "source": [
    "#Set intial conditions\n",
    "num_sol[0,0] = x0\n",
    "num_sol[0,1] = v0"
   ]
  },
  {
   "cell_type": "markdown",
   "metadata": {},
   "source": [
    "We're ready to solve! Step through the time increments, calling the `eulerstep()` function with the `springmass` right-hand-side derivatives and time increment as inputs."
   ]
  },
  {
   "cell_type": "code",
   "execution_count": 10,
   "metadata": {
    "collapsed": true,
    "jupyter": {
     "outputs_hidden": true
    }
   },
   "outputs": [],
   "source": [
    "for i in range(N-1):\n",
    "    num_sol[i+1] = eulerstep(num_sol[i], springmass, dt)"
   ]
  },
  {
   "cell_type": "markdown",
   "metadata": {},
   "source": [
    "Now, let's compute the position with respect to time using the known analytical solution, so that we can compare the numerical result with it. Below, we make a plot including both numerical and analytical values in our chosen time range."
   ]
  },
  {
   "cell_type": "code",
   "execution_count": 11,
   "metadata": {
    "collapsed": true,
    "jupyter": {
     "outputs_hidden": true
    }
   },
   "outputs": [],
   "source": [
    "x_an = x0*numpy.cos(ω * t)"
   ]
  },
  {
   "cell_type": "code",
   "execution_count": 12,
   "metadata": {},
   "outputs": [
    {
     "data": {
      "image/png": "[encoded data removed]",
      "text/plain": [
       "<matplotlib.figure.Figure at 0x1070a49b0>"
      ]
     },
     "metadata": {},
     "output_type": "display_data"
    }
   ],
   "source": [
    "# plot solution with Euler's method\n",
    "fig = pyplot.figure(figsize=(6,4))\n",
    "\n",
    "pyplot.plot(t, num_sol[:, 0], linewidth=2, linestyle='--', label='Numerical solution')\n",
    "pyplot.plot(t, x_an, linewidth=1, linestyle='-', label='Analytical solution')\n",
    "pyplot.xlabel('Time [s]')\n",
    "pyplot.ylabel('$x$ [m]')\n",
    "pyplot.title('Spring-mass system with Euler\\'s method (dashed line).\\n');"
   ]
  },
  {
   "cell_type": "markdown",
   "metadata": {},
   "source": [
    "Yikes! The numerical solution exhibits a marked growth in amplitude over time, which certainly is not what the physical system displays. _What is wrong with Euler's method?_"
   ]
  },
  {
   "cell_type": "markdown",
   "metadata": {},
   "source": [
    "*Exercise:* \n",
    "\n",
    "* Try repeating the calculation above using smaller values of the time increment, `dt`, and see if the results improve. Try `dt=P/40`,  `P/160` and  `P/2000`.\n",
    "\n",
    "* Although the last case, with 2000 steps per oscillation, does look good enough, see what happens if you then increase the time of simulation, for example to 20 periods. —Run the case again: _What do you see now?_\n",
    "\n",
    "We consistently observe a growth in amplitude in the numerical solution, worsening over time. The solution does improve when we reduce the time increment `dt` (as it should), but the amplitude still displays unphysical growth for longer simulations."
   ]
  },
  {
   "cell_type": "markdown",
   "metadata": {},
   "source": [
    "## Euler-Cromer method\n",
    "\n",
    "The thing is, Euler's method has a fundamental problem with oscillatory systems. Look again at the approximation made by Euler's method to get the position at the next time interval:\n",
    "\n",
    "\\begin{equation}\n",
    " x(t_i+\\Delta t)   \\approx  x(t_i) + v(t_i) \\Delta t\n",
    "\\end{equation}\n",
    "\n",
    "It uses the velocity value at the _beginning_ of the time interval to step the solution to the future. \n",
    "\n",
    "A graphical explanation can help here. Remember that the derivative of a function corresponds to the slope of the tangent at a point. Euler's method approximates the derivative using the slope at the initial point in an interval, and advances the numerical position with that initial velocity. The sketch below illustrates two consecutive Euler steps on a function with high curvature.\n",
    "\n",
    "<div style=\"text-align: center;\">\n",
    "<img src=\"../images/two-euler-steps.png\" style=\"width: 500px;\"/> </div>\n",
    "<div style=\"text-align: center;\">\n",
    "<em>Sketch of two Euler steps on a curved function.</em>\n",
    "</div>"
   ]
  },
  {
   "cell_type": "markdown",
   "metadata": {},
   "source": [
    "Since Euler's method makes a linear approximation to project the solution into the future, assuming the value of the derivative at the start of the interval, it's not very good on oscillatory functions.\n",
    "\n",
    "A clever idea that improves on Euler's method is to use the updated value of the derivatives for the _second_ equation.\n",
    "\n",
    "Pure Euler's method applies:\n",
    "\n",
    "\\begin{eqnarray}\n",
    "x(t_0) = x_0, \\qquad x_{i+1} &=& x_i + v_i \\Delta t \\nonumber\\\\\n",
    "v(t_0) = v_0, \\qquad v_{i+1} &=& v_i - {\\omega}^2 x_i \\Delta t\n",
    "\\end{eqnarray}\n",
    "\n",
    "What if in the equation for $v$ we used the value $x_{i+1}$ that was just computed? Like this:\n",
    "\n",
    "\\begin{eqnarray}\n",
    "x(t_0) = x_0, \\qquad x_{i+1} &=& x_i + v_i \\Delta t \\nonumber\\\\\n",
    "v(t_0) = v_0, \\qquad v_{i+1} &=& v_i - {\\omega}^2 x_{i+1} \\Delta t\n",
    "\\end{eqnarray}\n",
    "\n",
    "Notice the $x_{i+1}$ on the right-hand side of the second equation: that's the updated value, giving the acceleration at the _end_ of the time interval. This modified scheme is called Euler-Cromer method, to honor clever Mr Cromer, who came up with the idea [2]."
   ]
  },
  {
   "cell_type": "markdown",
   "metadata": {
    "collapsed": true,
    "jupyter": {
     "outputs_hidden": true
    }
   },
   "source": [
    "Let's see what it does. Study the function below carefully—it helps a lot if you write things out on a piece of paper!"
   ]
  },
  {
   "cell_type": "code",
   "execution_count": 13,
   "metadata": {
    "collapsed": true,
    "jupyter": {
     "outputs_hidden": true
    }
   },
   "outputs": [],
   "source": [
    "def euler_cromer(state, rhs, dt):\n",
    "    '''Update a state to the next time increment using Euler-Cromer's method.\n",
    "    \n",
    "    Arguments\n",
    "    ---------\n",
    "    state : array of dependent variables\n",
    "    rhs   : function that computes the RHS of the DiffEq\n",
    "    dt    : float, time increment\n",
    "    \n",
    "    Returns\n",
    "    -------\n",
    "    next_state : array, updated after one time increment'''\n",
    "    \n",
    "    mid_state = state + rhs(state)*dt # Euler step\n",
    "    mid_derivs = rhs(mid_state)       # updated derivatives\n",
    "    \n",
    "    next_state = numpy.array([mid_state[0], state[1] + mid_derivs[1]*dt])\n",
    "    \n",
    "    return next_state"
   ]
  },
  {
   "cell_type": "markdown",
   "metadata": {},
   "source": [
    "We've copied the whole problem set-up below, to get the solution in one code cell, for easy trial with different parameter choices. Try it out!"
   ]
  },
  {
   "cell_type": "code",
   "execution_count": 14,
   "metadata": {},
   "outputs": [
    {
     "name": "stdout",
     "output_type": "stream",
     "text": [
      "The number of time steps is 160000.\n",
      "The time increment is 0.015707963267948967\n"
     ]
    }
   ],
   "source": [
    "ω = 2\n",
    "period = 2*numpy.pi/ω\n",
    "dt = period/200  # time intervals per period \n",
    "T = 800*period   # simulation time, in number of periods\n",
    "N = round(T/dt)\n",
    "\n",
    "print('The number of time steps is {}.'.format( N ))\n",
    "print('The time increment is {}'.format( dt ))\n",
    "\n",
    "# time array\n",
    "t = numpy.linspace(0, T, N)\n",
    "\n",
    "x0 = 2    # initial position\n",
    "v0 = 0    # initial velocity\n",
    "\n",
    "#initialize solution array\n",
    "num_sol = numpy.zeros([N,2])\n",
    "\n",
    "#Set intial conditions\n",
    "num_sol[0,0] = x0\n",
    "num_sol[0,1] = v0\n",
    "\n",
    "for i in range(N-1):\n",
    "    num_sol[i+1] = euler_cromer(num_sol[i], springmass, dt)"
   ]
  },
  {
   "cell_type": "markdown",
   "metadata": {},
   "source": [
    "Recompute the analytical solution, and plot it alongside the numerical one, when you're ready. We computed a crazy number of oscillations, so we'll need to pick carefully the range of time to plot.\n",
    "\n",
    "First, get the analytical solution. We chose to then plot the first few periods of the oscillatory motion: numerical and analytical."
   ]
  },
  {
   "cell_type": "code",
   "execution_count": 15,
   "metadata": {
    "collapsed": true,
    "jupyter": {
     "outputs_hidden": true
    }
   },
   "outputs": [],
   "source": [
    "x_an = x0*numpy.cos(ω * t) # analytical solution"
   ]
  },
  {
   "cell_type": "code",
   "execution_count": 16,
   "metadata": {},
   "outputs": [
    {
     "data": {
      "image/png": "[encoded data removed]",
      "text/plain": [
       "<matplotlib.figure.Figure at 0x10b393588>"
      ]
     },
     "metadata": {},
     "output_type": "display_data"
    }
   ],
   "source": [
    "iend = 800 # in number of time steps\n",
    "\n",
    "fig = pyplot.figure(figsize=(6,4))\n",
    "\n",
    "pyplot.plot(t[:iend], num_sol[:iend, 0], linewidth=2, linestyle='--', label='Numerical solution')\n",
    "pyplot.plot(t[:iend], x_an[:iend], linewidth=1, linestyle='-', label='Analytical solution')\n",
    "pyplot.xlabel('Time [s]')\n",
    "pyplot.ylabel('$x$ [m]')\n",
    "pyplot.title('Spring-mass system, with Euler-Cromer method.\\n');"
   ]
  },
  {
   "cell_type": "markdown",
   "metadata": {},
   "source": [
    "The plot shows that Euler-Cromer does not have the problem of growing amplitudes. We're pretty happy with it in that sense."
   ]
  },
  {
   "cell_type": "markdown",
   "metadata": {},
   "source": [
    "But if we plot the end of a long period of simulation, you can see that it does start to  deviate from the analytical solution."
   ]
  },
  {
   "cell_type": "code",
   "execution_count": 17,
   "metadata": {},
   "outputs": [
    {
     "data": {
      "image/png": "[encoded data removed]",
      "text/plain": [
       "<matplotlib.figure.Figure at 0x10b393358>"
      ]
     },
     "metadata": {},
     "output_type": "display_data"
    }
   ],
   "source": [
    "istart = 400\n",
    "\n",
    "fig = pyplot.figure(figsize=(6,4))\n",
    "\n",
    "pyplot.plot(t[-istart:], num_sol[-istart:, 0], linewidth=2, linestyle='--', label='Numerical solution')\n",
    "pyplot.plot(t[-istart:], x_an[-istart:], linewidth=1, linestyle='-', label='Analytical solution')\n",
    "pyplot.xlabel('Time [s]')\n",
    "pyplot.ylabel('$x$ [m]')\n",
    "pyplot.title('Spring-mass system, with Euler-Cromer method. \\n');"
   ]
  },
  {
   "cell_type": "markdown",
   "metadata": {},
   "source": [
    "Looking at the last few oscillations in a very long run shows a slight phase difference, even with a very small time increment. So although the Euler-Cromer method fixes a big problem with Euler's method, it still has some error. It's still a first-order method!\n",
    "\n",
    "> The Euler-Cromer method is first-order accurate, just like Euler's method. The global error is proportional to $\\Delta t$.\n",
    "\n",
    "*Note:*\n",
    "\n",
    "You'll often find the presentation of the Euler-Cromer method with the reverse order of the equations, i.e., the velocity equation solved first, then the position equation solved with the updated value of the velocity. This makes no difference in the results: it's just a convention among physicists.\n",
    "\n",
    "The Euler-Cromer method is equivalent to a [_semi-implicit Euler method_](https://en.wikipedia.org/wiki/Semi-implicit_Euler_method)."
   ]
  },
  {
   "cell_type": "markdown",
   "metadata": {},
   "source": [
    "## Convergence\n",
    "\n",
    "We've said that both Euler's method and the Cromer variant are _first-order accurate_: the error goes as the first power of $\\Delta t$. In [Lesson 2](http://go.gwu.edu/engcomp3lesson2) of this module, we showed this using a Taylor series. Let's now confirm it numerically.\n",
    "\n",
    "Because simple harmonic motion has a known analytical function that solves the differential equation, we can directly compute a measure of the error made by the numerical solution. \n",
    "\n",
    "Suppose we ran a numerical solution in the interval from $t_0$ to $T=N/\\Delta t$. We could then compute the error, as follows:\n",
    "\n",
    "\\begin{equation}\n",
    "e = x_N - x_0 \\cos(\\omega T)\n",
    "\\end{equation}\n",
    "\n",
    "where $x_N$ represents the numerical solution at the $N$-th time step."
   ]
  },
  {
   "cell_type": "markdown",
   "metadata": {},
   "source": [
    "How could we confirm the order of convergence of a numerical method? In the lucky scenario of having an analytical solution to directly compute the error, all we need to do is solve numerically with different values of $\\Delta t$ and see if the error really varies linearly with this parameter.\n",
    "\n",
    "In the code cell below, we compute the numerical solution with different time increments. We use two nested `for`-statements: one iterates over the values of $\\Delta t$, and the other iterates over the time steps from the initial condition to the final time. We save the results in a new variable called `num_sol_time`, which is an array of arrays. Check it out!"
   ]
  },
  {
   "cell_type": "code",
   "execution_count": 18,
   "metadata": {
    "collapsed": true,
    "jupyter": {
     "outputs_hidden": true
    }
   },
   "outputs": [],
   "source": [
    "dt_values = numpy.array([period/50, period/100, period/200, period/400])\n",
    "T = 1*period\n",
    "\n",
    "num_sol_time = numpy.empty_like(dt_values, dtype=numpy.ndarray)\n",
    "\n",
    "\n",
    "for j, dt in enumerate(dt_values):\n",
    "\n",
    "    N = int(T/dt)\n",
    "    t = numpy.linspace(0, T, N)\n",
    "    \n",
    "    #initialize solution array\n",
    "    num_sol = numpy.zeros([N,2])\n",
    "    \n",
    "    \n",
    "    #Set intial conditions\n",
    "    num_sol[0,0] = x0\n",
    "    num_sol[0,1] = v0\n",
    "    \n",
    "    for i in range(N-1):\n",
    "        num_sol[i+1] = eulerstep(num_sol[i], springmass, dt)\n",
    "\n",
    "    num_sol_time[j] = num_sol.copy()"
   ]
  },
  {
   "cell_type": "markdown",
   "metadata": {},
   "source": [
    "We will need to compute the error with our chosen norm, so let's write a function for that. It includes a line to obtain the values of the analytical solution at the needed instant of time, and then it takes the difference with the numerical solution to compute the error."
   ]
  },
  {
   "cell_type": "code",
   "execution_count": 19,
   "metadata": {
    "collapsed": true,
    "jupyter": {
     "outputs_hidden": true
    }
   },
   "outputs": [],
   "source": [
    "def get_error(num_sol, T):\n",
    "    \n",
    "    x_an = x0 * numpy.cos(ω * T) # analytical solution at final time\n",
    "    \n",
    "    error =  numpy.abs(num_sol[-1,0] - x_an)\n",
    "    \n",
    "    return error"
   ]
  },
  {
   "cell_type": "markdown",
   "metadata": {},
   "source": [
    "All that is left to do is to call the error function with our chosen values of $\\Delta t$, and plot the results. A logarithmic scale on the plot confirms close to linear scaling between error and time increment."
   ]
  },
  {
   "cell_type": "code",
   "execution_count": 20,
   "metadata": {
    "collapsed": true,
    "jupyter": {
     "outputs_hidden": true
    }
   },
   "outputs": [],
   "source": [
    "error_values = numpy.empty_like(dt_values)\n",
    "\n",
    "for j in range(len(dt_values)):\n",
    "    \n",
    "    error_values[j] = get_error(num_sol_time[j], T)"
   ]
  },
  {
   "cell_type": "code",
   "execution_count": 21,
   "metadata": {},
   "outputs": [
    {
     "data": {
      "image/png": "[encoded data removed]",
      "text/plain": [
       "<matplotlib.figure.Figure at 0x10b38b978>"
      ]
     },
     "metadata": {},
     "output_type": "display_data"
    }
   ],
   "source": [
    "# plot the solution errors with respect to the time incremetn\n",
    "fig = pyplot.figure(figsize=(6,6))\n",
    "\n",
    "pyplot.loglog(dt_values, error_values, 'ko-')  #log-log plot\n",
    "pyplot.loglog(dt_values, 10*dt_values, 'k:')\n",
    "pyplot.grid(True)                         #turn on grid lines\n",
    "pyplot.axis('equal')                      #make axes scale equally\n",
    "pyplot.xlabel('$\\Delta t$')\n",
    "pyplot.ylabel('Error')\n",
    "pyplot.title('Convergence of the Euler method (dotted line: slope 1)\\n');"
   ]
  },
  {
   "cell_type": "markdown",
   "metadata": {},
   "source": [
    "What do you see in the plot of the error as a function of $\\Delta t$? It looks like a straight line, with a slope close to 1. On a log-log convergence plot, a slope of 1 indicates that we have a first-order method: the error scales as ${\\mathcal O}(\\Delta t)$—using the \"big-O\" notation. It means that the error is proportional to the time increment: $ e \\propto \\Delta t.$"
   ]
  },
  {
   "cell_type": "markdown",
   "metadata": {},
   "source": [
    "## Modified Euler's method\n",
    "\n",
    "Another improvement on Euler's method is achieved by stepping the numerical solution to the midpoint of a time interval, computing the derivatives there, and then going back and updating the system state using the midpoint derivatives. This is called _modified Euler's method_.\n",
    "\n",
    "If we write the vector form of the differential equation as: \n",
    "\n",
    "\\begin{equation}\n",
    "\\dot{\\mathbf{x}} = f(\\mathbf{x}),\n",
    "\\end{equation}\n",
    "\n",
    "then modified Euler's method is:\n",
    "\\begin{align}\n",
    "\\mathbf{x}_{n+1/2}   & = \\mathbf{x}_n + \\frac{\\Delta t}{2} f(\\mathbf{x}_n) \\\\\n",
    "\\mathbf{x}_{n+1} & = \\mathbf{x}_n + \\Delta t \\,\\, f(\\mathbf{x}_{n+1/2}).\n",
    "\\end{align}\n",
    "\n",
    "We can now write a Python function to update the state using this method. It's equivalent to a so-called _Runge-Kutta second-order_ method, so we call it `rk2_step()`."
   ]
  },
  {
   "cell_type": "code",
   "execution_count": 22,
   "metadata": {
    "collapsed": true,
    "jupyter": {
     "outputs_hidden": true
    }
   },
   "outputs": [],
   "source": [
    "def rk2_step(state, rhs, dt):\n",
    "    '''Update a state to the next time increment using modified Euler's method.\n",
    "    \n",
    "    Arguments\n",
    "    ---------\n",
    "    state : array of dependent variables\n",
    "    rhs   : function that computes the RHS of the DiffEq\n",
    "    dt    : float, time increment\n",
    "    \n",
    "    Returns\n",
    "    -------\n",
    "    next_state : array, updated after one time increment'''\n",
    "    \n",
    "    mid_state = state + rhs(state) * dt*0.5    \n",
    "    next_state = state + rhs(mid_state)*dt\n",
    " \n",
    "    return next_state"
   ]
  },
  {
   "cell_type": "markdown",
   "metadata": {},
   "source": [
    "Let's see how it performs with our spring-mass model."
   ]
  },
  {
   "cell_type": "code",
   "execution_count": 23,
   "metadata": {
    "collapsed": true,
    "jupyter": {
     "outputs_hidden": true
    }
   },
   "outputs": [],
   "source": [
    "dt_values = numpy.array([period/50, period/100, period/200,period/400])\n",
    "T = 1*period\n",
    "\n",
    "num_sol_time = numpy.empty_like(dt_values, dtype=numpy.ndarray)\n",
    "\n",
    "\n",
    "for j, dt in enumerate(dt_values):\n",
    "\n",
    "    N = int(T/dt)\n",
    "    t = numpy.linspace(0, T, N)\n",
    "    \n",
    "    #initialize solution array\n",
    "    num_sol = numpy.zeros([N,2])\n",
    "    \n",
    "    \n",
    "    #Set intial conditions\n",
    "    num_sol[0,0] = x0\n",
    "    num_sol[0,1] = v0\n",
    "    \n",
    "    for i in range(N-1):\n",
    "        num_sol[i+1] = rk2_step(num_sol[i], springmass, dt)\n",
    "\n",
    "    num_sol_time[j] = num_sol.copy()"
   ]
  },
  {
   "cell_type": "code",
   "execution_count": 24,
   "metadata": {
    "collapsed": true,
    "jupyter": {
     "outputs_hidden": true
    }
   },
   "outputs": [],
   "source": [
    "error_values = numpy.empty_like(dt_values)\n",
    "\n",
    "for j, dt in enumerate(dt_values):\n",
    "    \n",
    "    error_values[j] = get_error(num_sol_time[j], dt)"
   ]
  },
  {
   "cell_type": "code",
   "execution_count": 25,
   "metadata": {},
   "outputs": [
    {
     "data": {
      "image/png": "[encoded data removed]",
      "text/plain": [
       "<matplotlib.figure.Figure at 0x107157f98>"
      ]
     },
     "metadata": {},
     "output_type": "display_data"
    }
   ],
   "source": [
    "# plot of convergence for modified Euler's\n",
    "fig = pyplot.figure(figsize=(6,6))\n",
    "\n",
    "pyplot.loglog(dt_values, error_values, 'ko-')\n",
    "pyplot.loglog(dt_values, 5*dt_values**2, 'k:')\n",
    "pyplot.grid(True)\n",
    "pyplot.axis('equal')\n",
    "pyplot.xlabel('$\\Delta t$')\n",
    "pyplot.ylabel('Error')\n",
    "pyplot.title('Convergence of modified Euler\\'s method (dotted line: slope 2)\\n');"
   ]
  },
  {
   "cell_type": "markdown",
   "metadata": {},
   "source": [
    "The convergence plot, in this case, does look close to a slope-2 line. Modified Euler's method is second-order accurate: \n",
    "the effect of computing the derivatives (slope) at the midpoint of the time interval, instead of the starting point, is to increase the accuracy by one order!\n",
    "\n",
    "Using the derivatives at the midpoint of the time interval is equivalent to using the average of the derivatives at $t$ and $t+\\Delta t$: \n",
    "this corresponds to a second-order _Runge-Kutta method_, or RK2, for short.\n",
    "Combining derivatives evaluated at different points in the time interval is the key to Runge-Kutta methods that achieve higher orders of accuracy."
   ]
  },
  {
   "cell_type": "markdown",
   "metadata": {},
   "source": [
    "## What we've learned\n",
    "\n",
    "* vector form of the spring-mass differential equation\n",
    "* Euler's method produces unphysical amplitude growth in oscillatory systems\n",
    "* the Euler-Cromer method fixes the amplitude growth (while still being first order)\n",
    "* Euler-Cromer does show a phase lag after a long simulation\n",
    "* a convergence plot confirms the first-order accuracy of Euler's method\n",
    "* a convergence plot shows that modified Euler's method, using the derivatives evaluated at the midpoint of the time interval, is a second-order method"
   ]
  },
  {
   "cell_type": "markdown",
   "metadata": {},
   "source": [
    "## References\n",
    "\n",
    "1. Linge S., Langtangen H.P. (2016) Solving Ordinary Differential Equations. In: Programming for Computations - Python. Texts in Computational Science and Engineering, vol 15. Springer, Cham, https://doi.org/10.1007/978-3-319-32428-9_4, open access and reusable under [CC-BY-NC](http://creativecommons.org/licenses/by-nc/4.0/) license.\n",
    "\n",
    "2. Cromer, A. (1981). Stable solutions using the Euler approximation. _American Journal of Physics_, 49(5), 455-459. https://doi.org/10.1119/1.12478\n"
   ]
  },
  {
   "cell_type": "code",
   "execution_count": 1,
   "metadata": {},
   "outputs": [
    {
     "data": {
      "text/html": [
       "<style>\n",
       "\n",
       "@font-face {\n",
       "    font-family: 'et-book';\n",
       "    src: url('https://cdnjs.cloudflare.com/ajax/libs/tufte-css/1.8.0/et-book/et-book-roman-line-figures/et-book-roman-line-figures.woff') format('woff2'),\n",
       "         url('https://cdnjs.cloudflare.com/ajax/libs/tufte-css/1.8.0/et-book/et-book-roman-line-figures/et-book-roman-line-figures.woff') format('woff');\n",
       "    font-weight: normal;\n",
       "    font-style: normal;\n",
       "}\n",
       "@font-face {\n",
       "    font-family: 'et-book';\n",
       "    src: url('https://cdnjs.cloudflare.com/ajax/libs/tufte-css/1.8.0/et-book/et-book-display-italic-old-style-figures/et-book-display-italic-old-style-figures.woff') format('woff');\n",
       "    font-weight: normal;\n",
       "    font-style: italic;\n",
       "}\n",
       "@font-face {\n",
       "    font-family: 'et-book';\n",
       "    src: url('https://cdnjs.cloudflare.com/ajax/libs/tufte-css/1.8.0/et-book/et-book-bold-line-figures/et-book-bold-line-figures.woff') format('woff');\n",
       "    font-weight: bold;\n",
       "    font-style: normal;\n",
       "}\n",
       "/* The various ET-Book fonts are on GitHub at: https://github.com/edwardtufte/et-book\n",
       "*/\n",
       "@font-face{\n",
       "    font-family: 'Source Code Pro';\n",
       "    font-weight: 400;\n",
       "    font-style: normal;\n",
       "    font-stretch: normal;\n",
       "    src: url('https://raw.githubusercontent.com/adobe-fonts/source-code-pro/release/WOFF2/OTF/SourceCodePro-Regular.otf.woff2') format('woff2'),\n",
       "         url('https://raw.githubusercontent.com/adobe-fonts/source-code-pro/release/WOFF/OTF/SourceCodePro-Regular.otf.woff') format('woff'),\n",
       "         url('https://raw.githubusercontent.com/adobe-fonts/source-code-pro/release/OTF/SourceCodePro-Regular.otf') format('opentype');\n",
       "}\n",
       "\n",
       "@font-face{\n",
       "    font-family: 'Source Sans';\n",
       "    font-weight: 400;\n",
       "    font-style: normal;\n",
       "    font-stretch: normal;\n",
       "    src: url('https://raw.githubusercontent.com/adobe-fonts/source-sans/release/WOFF2/OTF/SourceSans3-Regular.otf.woff2') format('woff2'),\n",
       "         url('https://raw.githubusercontent.com/adobe-fonts/source-sans/release/WOFF/OTF/SourceSans3-Regular.otf.woff') format('woff'),\n",
       "         url('https://raw.githubusercontent.com/adobe-fonts/source-sans/release/OTF/SourceSans3-Regular.otf') format('opentype');\n",
       "}\n",
       "@font-face {\n",
       "    font-family: \"Computer Modern\";\n",
       "    src: url('http://mirrors.ctan.org/fonts/cm-unicode/fonts/otf/cmunss.otf');\n",
       "}\n",
       "\n",
       ":root {\n",
       "    --jp-content-line-height: 1.3;\n",
       "    --jp-content-font-scale-factor: 1.2;\n",
       "    --jp-content-font-size1: 20px; /* Base font size */\n",
       "    --jp-content-font-family: 'et-book', 'Palatino Linotype', Palatino, serif;\n",
       "} \n",
       "\n",
       ".jp-RenderedHTMLCommon {\n",
       "    line-height: 1.3 !important;\n",
       "    font-size: 20px !important;\n",
       "    font-family: 'et-book', 'Palatino Linotype', Palatino, serif;\n",
       "    padding-left: 10% !important;\n",
       "    padding-right: 20% !important;\n",
       "}\n",
       "\n",
       ".jp-CodeCell {\n",
       "    padding-left: 10% !important;\n",
       "    padding-right: 20% !important;\n",
       "}\n",
       "\n",
       ".jp-RawCell {\n",
       "    padding-left: 10% !important;\n",
       "    padding-right: 20% !important;\n",
       "}\n",
       "\n",
       "\n",
       "code {\n",
       "    font-size: 0.8em !important;\n",
       "    background-color: #f0f0f0 !important;\n",
       "}\n",
       "\n",
       "hr {\n",
       "    background: #000;\n",
       "    height: 1px;\n",
       "    border: 0px;\n",
       "} \n",
       "\n",
       "\n",
       "#notebook_panel { /* main background */\n",
       "    background: rgb(245,245,245);\n",
       "}\n",
       "\n",
       "div.cell { /* set cell width */\n",
       "    width: 800px;\n",
       "}\n",
       "\n",
       "div #notebook { /* centre the content */\n",
       "    background: #fff; /* white background for content */\n",
       "    width: 800px;\n",
       "    margin: auto;\n",
       "    padding-left: 0em;\n",
       "}\n",
       "\n",
       "#notebook li { /* More space between bullet points */\n",
       "margin-top:0.5em;\n",
       "}\n",
       "\n",
       "/* draw border around running cells */\n",
       "div.cell.border-box-sizing.code_cell.running { \n",
       "    border: 1px solid #111;\n",
       "}\n",
       "\n",
       "/* Put a solid color box around each cell and its output, visually linking them*/\n",
       "div.cell.code_cell {\n",
       "    background-color: rgb(256,256,256); \n",
       "    border-radius: 0px; \n",
       "    padding: 0.5em;\n",
       "    margin-left:1em;\n",
       "    margin-top: 1em;\n",
       "}\n",
       "\n",
       "\n",
       "div.text_cell_render{\n",
       "    font-family: 'Source Sans', sans-serif;\n",
       "    line-height: 140%;\n",
       "    font-size: 100%;\n",
       "    width:680px;\n",
       "    margin-left:auto;\n",
       "    margin-right:auto;\n",
       "}\n",
       "\n",
       "/* Formatting for header cells */\n",
       ".text_cell_render h1 {\n",
       "    /* font-family: 'Merriweather', serif; */\n",
       "    font-style:regular;\n",
       "    font-weight: bold;    \n",
       "    font-size: 250%;\n",
       "    line-height: 100%;\n",
       "    color: #004065;\n",
       "    margin-bottom: 1em;\n",
       "    margin-top: 0.5em;\n",
       "    display: block;\n",
       "}\t\n",
       ".text_cell_render h2 {\n",
       "    /* font-family: 'Merriweather', serif; */\n",
       "    font-weight: bold; \n",
       "    font-size: 180%;\n",
       "    line-height: 100%;\n",
       "    color: #0096d6;\n",
       "    margin-bottom: 0.5em;\n",
       "    margin-top: 0.5em;\n",
       "    display: block;\n",
       "}\t\n",
       "\n",
       ".text_cell_render h3 {\n",
       "    /* font-family: 'Merriweather', serif; */\n",
       "\tfont-size: 150%;\n",
       "    margin-top:12px;\n",
       "    margin-bottom: 3px;\n",
       "    font-style: regular;\n",
       "    color: #008367;\n",
       "}\n",
       "\n",
       ".text_cell_render h4 {    /*Use this for captions*/\n",
       "    font-family: 'et-book';\n",
       "    font-weight: 300; \n",
       "    font-size: 100%;\n",
       "    line-height: 120%;\n",
       "    text-align: left;\n",
       "    width:500px;\n",
       "    margin-top: 1em;\n",
       "    margin-bottom: 2em;\n",
       "    margin-left: 80pt;\n",
       "    font-style: italic;\n",
       "}\n",
       "\n",
       ".text_cell_render h5 {  /*Use this for small titles*/\n",
       "    font-family: 'Source Sans', sans-serif;\n",
       "    font-size: 130%;\n",
       "    color: #e31937;\n",
       "    margin-bottom: .5em;\n",
       "    margin-top: 1em;\n",
       "    display: block;\n",
       "}\n",
       "\n",
       ".text_cell_render h6 { /*use this for copyright note*/\n",
       "    font-family: 'Source Code Pro', sans-serif;\n",
       "    font-weight: 300;\n",
       "    font-size: 9pt;\n",
       "    line-height: 100%;\n",
       "    color: grey;\n",
       "    margin-bottom: 1px;\n",
       "    margin-top: 1px;\n",
       "}\n",
       "\n",
       "    .CodeMirror{\n",
       "            font-family: \"Source Code Pro\";\n",
       "\t\t\tfont-size: 100%;\n",
       "    }\n",
       "/*    .prompt{\n",
       "        display: None;\n",
       "    }*/\n",
       "\t\n",
       "    \n",
       "    .warning{\n",
       "        color: rgb( 240, 20, 20 )\n",
       "        }  \n",
       "</style>\n",
       "<script>\n",
       "    MathJax.Hub.Config({\n",
       "                        TeX: {\n",
       "                           extensions: [\"AMSmath.js\"], \n",
       "                           equationNumbers: { autoNumber: \"AMS\", useLabelIds: true}\n",
       "                           },\n",
       "                tex2jax: {\n",
       "                    inlineMath: [ ['$','$'], [\"\\\\(\",\"\\\\)\"] ],\n",
       "                    displayMath: [ ['$$','$$'], [\"\\\\[\",\"\\\\]\"] ]\n",
       "                },\n",
       "                displayAlign: 'center', // Change this to 'center' to center equations.\n",
       "                \"HTML-CSS\": {\n",
       "                    styles: {'.MathJax_Display': {\"margin\": 4}}\n",
       "                }\n",
       "        });\n",
       "</script>\n"
      ],
      "text/plain": [
       "<IPython.core.display.HTML object>"
      ]
     },
     "execution_count": 1,
     "metadata": {},
     "output_type": "execute_result"
    }
   ],
   "source": [
    "# Execute this cell to load the notebook's style sheet, then ignore it\n",
    "from IPython.core.display import HTML\n",
    "css_file = '../../../styles/custom.css'\n",
    "HTML(open(css_file, \"r\").read())"
   ]
  }
 ],
 "metadata": {
  "kernelspec": {
   "display_name": "Python 3 (ipykernel)",
   "language": "python",
   "name": "python3"
  },
  "language_info": {
   "codemirror_mode": {
    "name": "ipython",
    "version": 3
   },
   "file_extension": ".py",
   "mimetype": "text/x-python",
   "name": "python",
   "nbconvert_exporter": "python",
   "pygments_lexer": "ipython3",
   "version": "3.11.9"
  }
 },
 "nbformat": 4,
 "nbformat_minor": 4
}
