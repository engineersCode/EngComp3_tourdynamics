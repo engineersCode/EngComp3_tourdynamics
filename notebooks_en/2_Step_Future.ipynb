{
 "cells": [
  {
   "cell_type": "raw",
   "metadata": {},
   "source": [
    "Content under Creative Commons Attribution license CC-BY 4.0, code under BSD 3-Clause License © 2017 L.A. Barba, N.C. Clementi"
   ]
  },
  {
   "cell_type": "markdown",
   "metadata": {},
   "source": [
    "# Step to the future\n",
    "\n",
    "Welcome to Lesson 2 of the course module \"Tour the dynamics of change and motion,\" in _Engineering Computations_. The previous lesson, [Catch things in motion](http://go.gwu.edu/engcomp3lesson1), showed you how to compute velocity and acceleration of a moving body whose positions were known. \n",
    "\n",
    "Time history of position can be captured on a long-exposure photograph (using a strobe light), or on video. But digitizing the positions from images can be a bit tedious, and error-prone. Luckily, we found online a data set from a fancy motion-capture experiment of a falling ball, with high resolution [1]. You computed acceleration and found that it was not only smaller than the theoretical value of $9.8 \\rm{m/s}^2$, but it _decreased_ over time. The effect is due to air resistance and is what leads to objects reaching a _terminal velocity_ in freefall.\n",
    "\n",
    "In general, not only is [motion capture](https://en.wikipedia.org/wiki/Motion_capture) (a.k.a., _mo-cap_) expensive, but it's inappropriate for many physical scenarios. Take a roller-coaster ride, for example: during design of the ride, it's more likely that the engineers will use an _accelerometer_. It really is the acceleration that makes a roller-coaster ride exciting, and they only rarely go faster than highway speeds (say, 60 mph) [2].\n",
    "How would an engineer analyze data captured with an accelerometer?"
   ]
  },
  {
   "cell_type": "markdown",
   "metadata": {},
   "source": [
    "## A roller-coaster ride\n",
    "\n",
    "Prof. Anders Malthe-Sorenssen has a file with accelerometer data for a roller-coaster ride called \"The Rocket\" (we don't know if it's real or made up!). He has kindly given permission to use his data. So let's load it and have a look. We'll first need our favorite numerical Python libraries, of course."
   ]
  },
  {
   "cell_type": "code",
   "execution_count": 1,
   "metadata": {},
   "outputs": [],
   "source": [
    "import numpy\n",
    "from matplotlib import pyplot"
   ]
  },
  {
   "cell_type": "code",
   "execution_count": 2,
   "metadata": {},
   "outputs": [],
   "source": [
    "%matplotlib inline\n",
    "\n",
    "pyplot.rc('font', family='serif', size='14')"
   ]
  },
  {
   "cell_type": "markdown",
   "metadata": {},
   "source": [
    "If you don't have the data file in the location we assume below, you can get it by adding a code cell and executing this code in it, then commenting or deleting the `filename` assignment before the call to `numpy.loadtxt()`.\n",
    "\n",
    "```Python\n",
    "from urllib.request import urlretrieve\n",
    "URL = 'http://go.gwu.edu/engcomp3data2?accessType=DOWNLOAD'\n",
    "urlretrieve(URL, 'therocket.txt')\n",
    "```"
   ]
  },
  {
   "cell_type": "code",
   "execution_count": 3,
   "metadata": {},
   "outputs": [],
   "source": [
    "filename = '../data/therocket.txt'\n",
    "t, a = numpy.loadtxt(filename, usecols=[0,1], unpack=True)"
   ]
  },
  {
   "cell_type": "markdown",
   "metadata": {},
   "source": [
    "We'll take a peek at the data by printing the first five pairs of $(t, a)$ values, then plot the whole set below. Time is given in units of seconds, while acceleration is in $\\rm{m/s}^2$."
   ]
  },
  {
   "cell_type": "code",
   "execution_count": 4,
   "metadata": {},
   "outputs": [
    {
     "name": "stdout",
     "output_type": "stream",
     "text": [
      "0.0 0.2731644\n",
      "0.1 1.4411079\n",
      "0.2 2.6693138\n",
      "0.3 4.2383806\n",
      "0.4 5.6499504\n"
     ]
    }
   ],
   "source": [
    "for i in range(0,5): print(t[i],a[i])"
   ]
  },
  {
   "cell_type": "code",
   "execution_count": 5,
   "metadata": {},
   "outputs": [
    {
     "data": {
      "image/png": "[encoded data removed]",
      "text/plain": [
       "<matplotlib.figure.Figure at 0x7f0abf7c66d8>"
      ]
     },
     "metadata": {},
     "output_type": "display_data"
    }
   ],
   "source": [
    "# plot the acceleration over time\n",
    "fig = pyplot.figure(figsize=(8, 3))\n",
    "\n",
    "pyplot.plot(t, a, color='#004065', linestyle='-', linewidth=1) \n",
    "pyplot.title('Acceleration of roller-coster ride data, from [1]. \\n')\n",
    "pyplot.xlabel('Time [s]')\n",
    "pyplot.ylabel('[m/s$^2$]');"
   ]
  },
  {
   "cell_type": "markdown",
   "metadata": {},
   "source": [
    "### Set things up to compute velocity and position\n",
    "\n",
    "Our challenge now is to find the motion description—the position $x(t)$—from the acceleration data. In the [previous lesson](http://go.gwu.edu/engcomp3lesson1), we did the opposite: with position data, get the velocity and acceleration, using _numerical derivatives_:\n",
    "\n",
    "\\begin{equation}\n",
    "v(t_i) = \\frac{dx}{dt} \\approx \\frac{x(t_i+\\Delta t)-x(t_i)}{\\Delta t}\n",
    "\\end{equation}\n",
    "\n",
    "\\begin{equation}\n",
    "a(t_i) = \\frac{dv}{dt} \\approx \\frac{v(t_i+\\Delta t)-v(t_i)}{\\Delta t}\n",
    "\\end{equation}\n",
    "\n",
    "Since this time we're dealing with horizontal acceleration, we swapped the position variable from $y$ to $x$ in the equation for velocity, above. \n",
    "\n",
    "The key to our problem is realizing that if we have the initial velocity, we can use the acceleration data to find the velocity after a short interval of time. And if we have the initial position, we can use the known velocity to find the new position after a short interval of time. Let's rearrange the equation for acceleration above, by solving for the velocity at $t_i + \\Delta t$:\n",
    "\n",
    "\\begin{equation}\n",
    " v(t_i+\\Delta t)   \\approx  v(t_i) + a(t_i) \\Delta t\n",
    "\\end{equation}\n",
    "\n",
    "We need to know the velocity and acceleration at some initial time, $t_0$, and then we can compute the velocity $v(t_i + \\Delta t)$. For the roller-coaster ride, it's natural to assume that the initial velocity is zero, and the initial position is zero with respect to a convenient reference system. We're actually ready to solve this!\n",
    "\n",
    "Let's save the time increment for our data set in a variable named `dt`, and compute the number of time increments in the data. Then, we'll initialize new arrays of velocity and position to all-zero values, with the intention of updating these to the computed values."
   ]
  },
  {
   "cell_type": "code",
   "execution_count": 6,
   "metadata": {},
   "outputs": [
    {
     "data": {
      "text/plain": [
       "0.10000000000000001"
      ]
     },
     "execution_count": 6,
     "metadata": {},
     "output_type": "execute_result"
    }
   ],
   "source": [
    "#time increment\n",
    "dt = t[1]-t[0]\n",
    "dt"
   ]
  },
  {
   "cell_type": "code",
   "execution_count": 7,
   "metadata": {},
   "outputs": [
    {
     "data": {
      "text/plain": [
       "151"
      ]
     },
     "execution_count": 7,
     "metadata": {},
     "output_type": "execute_result"
    }
   ],
   "source": [
    "#number of time increments\n",
    "N = len(t)\n",
    "N"
   ]
  },
  {
   "cell_type": "code",
   "execution_count": 8,
   "metadata": {
    "collapsed": true,
    "jupyter": {
     "outputs_hidden": true
    }
   },
   "outputs": [],
   "source": [
    "#initialize v and x arrays to zero\n",
    "v = numpy.zeros(N)\n",
    "x = numpy.zeros(N)"
   ]
  },
  {
   "cell_type": "markdown",
   "metadata": {},
   "source": [
    "### Step through time\n",
    "\n",
    "In the code cell below, we use a `for` statement to step through the sequence of acceleration values, each time computing the velocity and position at the subsequent time instant. We are applying the equation for $v(t_i + \\Delta t)$ above, and a similar equation for position:\n",
    "\n",
    "\\begin{equation}\n",
    " x(t_i+\\Delta t)   \\approx  x(t_i) + v(t_i) \\Delta t\n",
    "\\end{equation}"
   ]
  },
  {
   "cell_type": "code",
   "execution_count": 9,
   "metadata": {
    "collapsed": true,
    "jupyter": {
     "outputs_hidden": true
    }
   },
   "outputs": [],
   "source": [
    "for i in range(N-1):\n",
    "    v[i+1] = v[i] + a[i]*dt\n",
    "    x[i+1] = x[i] + v[i]*dt"
   ]
  },
  {
   "cell_type": "markdown",
   "metadata": {},
   "source": [
    "And there you have it. You have computed the velocity and position over time from the acceleration data. We can now make plots of the computed variables. Note that we use the Matplotlib [`subplot()`](https://matplotlib.org/api/_as_gen/matplotlib.pyplot.subplot.html?highlight=matplotlib%20pyplot%20subplot#matplotlib.pyplot.subplot) function to get the two plots in one figure. The argument to `subplot()` is a set of three digits, corresponding to the number of rows, number of columns, and plot number in a matrix of sub-plots. "
   ]
  },
  {
   "cell_type": "code",
   "execution_count": 10,
   "metadata": {},
   "outputs": [
    {
     "data": {
      "image/png": "[encoded data removed]",
      "text/plain": [
       "<matplotlib.figure.Figure at 0x7f0abcd189b0>"
      ]
     },
     "metadata": {},
     "output_type": "display_data"
    }
   ],
   "source": [
    "# plot velocity and position over time\n",
    "fig = pyplot.figure(figsize=(10,6))\n",
    "\n",
    "pyplot.subplot(211)\n",
    "pyplot.plot(t,  v, color='#0096d6', linestyle='-', linewidth=1) \n",
    "pyplot.title('Velocity and position of roller-coster ride (data from [1]). \\n')\n",
    "pyplot.ylabel('$v$ [m/s] ')\n",
    "\n",
    "pyplot.subplot(212)\n",
    "pyplot.plot(t,  x, color='#008367', linestyle='-', linewidth=1) \n",
    "pyplot.xlabel('Time [s]')\n",
    "pyplot.ylabel('$x$ [m]');"
   ]
  },
  {
   "cell_type": "markdown",
   "metadata": {
    "collapsed": true,
    "jupyter": {
     "outputs_hidden": true
    }
   },
   "source": [
    "## Euler's method\n",
    "\n",
    "The method we used above to compute the velocity and position from acceleration data is known as _Euler's method_. The eminent Swiss mathematician Leonhard Euler presented it in his book _\"Institutionum calculi integralis,\"_ published around 1770 [3].\n",
    "\n",
    "You can understand why it works by writing out a Taylor expansion for $x(t)$:\n",
    "\n",
    "\\begin{equation}\n",
    "x(t+\\Delta t) = x(t) + \\frac{d x}{dt}\\Delta t + \\frac{d^2 x}{dt^2}\\frac{\\Delta t^2}{2} + \\frac{d^3 x}{dt^3}\\frac{\\Delta t^3}{3!}+\\cdots\n",
    "\\end{equation}\n",
    "\n",
    "With $v=dx/dt$, you can see that the first two terms on the right-hand side correspond to what we used in the code above. That means that Euler's method makes an approximation by throwing away the terms $\\frac{d^2 x}{dt^2}\\frac{\\Delta t^2}{2} + \\frac{d^3 x}{dt^3}\\frac{\\Delta t^3}{3!}+\\cdots$. So the error made in _one step_ of Euler's method is proportional to $\\Delta t^2$. Since we take $N=T/\\Delta t$ steps (for a final time instant $T$), we conclude that the error overall is proportional to $\\Delta t$. \n",
    "\n",
    "> **Euler's method is a first-order method** because the error in the approximation goes with the first power of the time increment $\\Delta t$."
   ]
  },
  {
   "cell_type": "markdown",
   "metadata": {},
   "source": [
    "## Initial-value problems\n",
    "\n",
    "To get velocity and position from the acceleration data, we needed to know the _initial values_ of the velocity and position. Then we could apply Euler's method to _step in time_ starting at $t_0$, with time increment $\\Delta t$. This setting corresponds to the numerical solution of _initial-value problems_. \n",
    "(We follow here the presentation in [4], p.86.)\n",
    "\n",
    "Consider the differential equation corresponding to an object in free fall:\n",
    "\n",
    "\\begin{equation}\n",
    "\\ddot{y}=-g,\n",
    "\\end{equation}\n",
    "\n",
    "where the dot above a variable represents the time derivative, and $g$ is the acceleration of gravity. Introducing the velocity as intermediary variable, we can write:\n",
    "\n",
    "\\begin{eqnarray}\n",
    "\\dot{y} &=& v \\nonumber\\\\\n",
    "\\dot{v} &=& -g\n",
    "\\end{eqnarray}\n",
    "\n",
    "The above is a system of two ordinary differential equations, with time as the independent variable. For its numerical solution, we need two initial conditions, and Euler's method:\n",
    "\n",
    "\\begin{eqnarray}\n",
    "y(t_0) = y_0, \\qquad y_{i+1} &=& y_i + \\dot{y} \\Delta t \\nonumber\\\\\n",
    "v(t_0) = v_0, \\qquad v_{i+1} &=& v_i + \\dot{v} \\Delta t\n",
    "\\end{eqnarray}\n",
    "\n",
    "It's so neatly symmetrical that it's just asking for a vectorized equation! Combine the two dependent variables into a vector of unknowns, $\\mathbf{y}$:\n",
    "\n",
    "\\begin{equation}\n",
    "\\mathbf{y} = \\begin{bmatrix}\n",
    "y \\\\ v\n",
    "\\end{bmatrix},\n",
    "\\end{equation}\n",
    "\n",
    "and write the differential equation in vector form, as follows:\n",
    "\n",
    "\\begin{equation}\n",
    "\\dot{\\mathbf{y}} = \\begin{bmatrix}\n",
    "v \\\\ -g\n",
    "\\end{bmatrix}.\n",
    "\\end{equation}\n",
    "\n",
    "Equation (9) above represents the _state_ of the system, at any given instant in time. A code design for the numerical solution that generalizes to other changing systems (or _dynamical systems_) is to write one function that computes the right-hand side of the differential equation (the derivatives of the state variables), and another function that takes a state and applies the numerical method for each time increment. The solution is then computed in one `for` statement that calls these functions. "
   ]
  },
  {
   "cell_type": "markdown",
   "metadata": {},
   "source": [
    "Study the code below: the function `freefall()` computes the right-hands side of the equation, and the function `eulerstep()` takes the state and applies Euler's method to update it one time increment."
   ]
  },
  {
   "cell_type": "code",
   "execution_count": 11,
   "metadata": {
    "collapsed": true,
    "jupyter": {
     "outputs_hidden": true
    }
   },
   "outputs": [],
   "source": [
    "def freefall(state):\n",
    "    '''Computes the right-hand side of the freefall differential \n",
    "    equation, in SI units.\n",
    "    \n",
    "    Arguments\n",
    "    ----------    \n",
    "    state : array of two dependent variables [y v]^T\n",
    "    \n",
    "    Returns\n",
    "    -------\n",
    "    derivs: array of two derivatives [v -g]^T\n",
    "    '''\n",
    "    \n",
    "    derivs = numpy.array([state[1], -9.8])\n",
    "    return derivs"
   ]
  },
  {
   "cell_type": "code",
   "execution_count": 12,
   "metadata": {
    "collapsed": true,
    "jupyter": {
     "outputs_hidden": true
    }
   },
   "outputs": [],
   "source": [
    "def eulerstep(state, rhs, dt):\n",
    "    '''Uses Euler's method to update a state to the next one. \n",
    "    \n",
    "    Arguments\n",
    "    ---------\n",
    "    state: array of two dependent variables [y v]^T\n",
    "    rhs  : function that computes the right hand side of the \n",
    "           differential equation.\n",
    "    dt   : float, time increment. \n",
    "    \n",
    "    Returns\n",
    "    -------\n",
    "    next_state: array, updated state after one time increment.       \n",
    "    '''\n",
    "    \n",
    "    next_state = state + rhs(state) * dt\n",
    "    return next_state"
   ]
  },
  {
   "cell_type": "markdown",
   "metadata": {},
   "source": [
    "## Numerical solution vs. experiment\n",
    "\n",
    "Here's an idea! Let's use the `freefall()` and `eulerstep()` functions to obtain a numerical solution with the same initial conditions as the falling-ball experiment from [Lesson 1](http://go.gwu.edu/engcomp3lesson1), and compare with the experimental data. \n",
    "\n",
    "You can grab the data from its location online running the following code in a new cell:\n",
    "```Python\n",
    "filename = 'fallingtennisball02.txt'\n",
    "url = 'http://go.gwu.edu/engcomp3data1'\n",
    "urlretrieve(url, filename)\n",
    "```\n",
    "\n",
    "You already imported `urlretrieve` above. Remember to then comment the assignment of the `filename` variable below. We'll load it from our local copy."
   ]
  },
  {
   "cell_type": "code",
   "execution_count": 13,
   "metadata": {
    "collapsed": true,
    "jupyter": {
     "outputs_hidden": true
    }
   },
   "outputs": [],
   "source": [
    "filename = '../data/fallingtennisball02.txt'\n",
    "t, y = numpy.loadtxt(filename, usecols=[0,1], unpack=True)"
   ]
  },
  {
   "cell_type": "markdown",
   "metadata": {},
   "source": [
    "We'll need to use the same time increment, so let's compute it from two time samples. The initial position is the first value of the `y` array, while the initial velocity is zero. And we'll only look at the section of data before the ball bounces from the ground, which gives us the number of time steps."
   ]
  },
  {
   "cell_type": "code",
   "execution_count": 14,
   "metadata": {
    "collapsed": true,
    "jupyter": {
     "outputs_hidden": true
    }
   },
   "outputs": [],
   "source": [
    "#time increment\n",
    "dt = t[1]-t[0]"
   ]
  },
  {
   "cell_type": "code",
   "execution_count": 15,
   "metadata": {
    "collapsed": true,
    "jupyter": {
     "outputs_hidden": true
    }
   },
   "outputs": [],
   "source": [
    "y0 = y[0] #initial position\n",
    "v0 = 0    #initial velocity\n",
    "N = 576   #number of steps"
   ]
  },
  {
   "cell_type": "markdown",
   "metadata": {},
   "source": [
    "Now, let's create a new array, called `num_sol`, to hold the results of the numerical solution. The array has dimensions `Nx2`, with each two-element row holding the state variables, $(y,v)$, at a given time instant. After saving the initial conditions in the solution array, we are ready to start stepping in time in a `for` statement. Study the code below."
   ]
  },
  {
   "cell_type": "code",
   "execution_count": 16,
   "metadata": {
    "collapsed": true,
    "jupyter": {
     "outputs_hidden": true
    }
   },
   "outputs": [],
   "source": [
    "#initialize array\n",
    "num_sol = numpy.zeros([N,2])"
   ]
  },
  {
   "cell_type": "code",
   "execution_count": 17,
   "metadata": {
    "collapsed": true,
    "jupyter": {
     "outputs_hidden": true
    }
   },
   "outputs": [],
   "source": [
    "#Set intial conditions\n",
    "num_sol[0,0] = y0\n",
    "num_sol[0,1] = v0"
   ]
  },
  {
   "cell_type": "code",
   "execution_count": 18,
   "metadata": {
    "collapsed": true,
    "jupyter": {
     "outputs_hidden": true
    }
   },
   "outputs": [],
   "source": [
    "for i in range(N-1):\n",
    "    num_sol[i+1] = eulerstep(num_sol[i], freefall, dt)"
   ]
  },
  {
   "cell_type": "markdown",
   "metadata": {},
   "source": [
    "Did it work? Exciting! Let's plot in the same figure both the numerical solution and the experimental data. "
   ]
  },
  {
   "cell_type": "code",
   "execution_count": 19,
   "metadata": {},
   "outputs": [
    {
     "data": {
      "image/png": "[encoded data removed]",
      "text/plain": [
       "<matplotlib.figure.Figure at 0x7f0abcbc3278>"
      ]
     },
     "metadata": {},
     "output_type": "display_data"
    }
   ],
   "source": [
    "fig = pyplot.figure(figsize=(6,4))\n",
    "pyplot.plot(t[:N], num_sol[:,0], linewidth=2, linestyle='--', label='Numerical solution')\n",
    "pyplot.plot(t[:N], y[:N], linewidth=2, alpha=0.8, label='Experimental data')\n",
    "pyplot.xlabel('Time [s]')\n",
    "pyplot.ylabel('$y$ [m]')\n",
    "pyplot.title('Free fall tennis ball (no air resistance) \\n')\n",
    "pyplot.legend();"
   ]
  },
  {
   "cell_type": "markdown",
   "metadata": {},
   "source": [
    "The two lines look very close… but let's plot the difference to get an idea of the error."
   ]
  },
  {
   "cell_type": "code",
   "execution_count": 20,
   "metadata": {},
   "outputs": [
    {
     "data": {
      "image/png": "[encoded data removed]",
      "text/plain": [
       "<matplotlib.figure.Figure at 0x7f0abcbd7ef0>"
      ]
     },
     "metadata": {},
     "output_type": "display_data"
    }
   ],
   "source": [
    "fig = pyplot.figure(figsize=(6,4))\n",
    "pyplot.plot(t[:N], y[:N]-num_sol[:,0])\n",
    "pyplot.title('Difference between numerical solution and experimental data.\\n')\n",
    "pyplot.xlabel('Time [s]')\n",
    "pyplot.ylabel('$y$ [m]');"
   ]
  },
  {
   "cell_type": "markdown",
   "metadata": {},
   "source": [
    "## Air resistance\n",
    "\n",
    "In [Lesson 1](http://go.gwu.edu/engcomp3lesson1) of this module, we computed the acceleration of gravity and got a value less than the theoretical $9.8 \\rm{m/s}^2$, even when using high-resolution experimental data. Did you figure out why?\n",
    "\n",
    "We were missing the effect of air resistance! When an object moves in a fluid, like air, it applies a force on the fluid, and consequently the fluid applies an equal and opposite force on the object (Newton's third law).\n",
    "\n",
    "This force is the *drag* of the fuid, and it opposes the direction of travel. The drag force depends on the object's geometry, and its velocity: for a sphere, its magnitude is given by:\n",
    "\n",
    "\\begin{equation}\n",
    "    F_d = \\frac{1}{2} \\pi R^2 \\rho C_d v^2,\n",
    "\\end{equation}\n",
    "\n",
    "where $R$ is the radius of the sphere, $\\rho$ the density of the fluid, $C_d$ the drag coefficient of a sphere, and $v$ is the velocity."
   ]
  },
  {
   "cell_type": "markdown",
   "metadata": {},
   "source": [
    "Since we have another force involved, we'll have to rethink the problem formulation. The state variables are still the same (position and velocity):\n",
    "\n",
    "\\begin{equation}\n",
    "\\mathbf{y} = \\begin{bmatrix}\n",
    "y \\\\ v\n",
    "\\end{bmatrix}.\n",
    "\\end{equation}\n",
    "\n",
    "But we'll adjust the differential equation to add the effect of air resistance. In vector form, we can write it as follows:\n",
    "\n",
    "\\begin{equation}\n",
    "\\dot{\\mathbf{y}} = \\begin{bmatrix}\n",
    "v \\\\ a_y\n",
    "\\end{bmatrix},\n",
    "\\end{equation}\n",
    "\n",
    "where $a_y$ now includes the acceleration due to the drag force:\n",
    "\n",
    "\\begin{equation}\n",
    " a_y = -g + a_{\\text{drag}} \n",
    "\\end{equation}\n",
    "\n",
    "With $F_{\\text{drag}} = m a_{\\text{drag}}$:\n",
    "\n",
    "\\begin{equation}\n",
    "    a_{\\text{drag}} = \\frac{1}{2m} \\pi R^2 \\rho C_d v^2\n",
    "\\end{equation}\n",
    "\n",
    "Finally, we can write our differential equation as:\n",
    "\n",
    "\n",
    "\\begin{equation}\n",
    "\\dot{\\mathbf{y}} = \\begin{bmatrix}\n",
    "v \\\\ -g + a_{\\text{drag}}\n",
    "\\end{bmatrix}.\n",
    "\\end{equation}\n",
    "\n",
    "Let's write a new function for this modified right-hand side of a falling tennis ball with air resistance."
   ]
  },
  {
   "cell_type": "markdown",
   "metadata": {},
   "source": [
    "*Note:*\n",
    "\n",
    "According to the International Tennis Federation, ITF, the diameter of a tennis ball has to be in the range of $6.54$–$6.86 \\rm{cm}$, and its mass in the range of $56.0$–$59.4 \\rm{g}$. We chose a value in the middle of the range for each quantity."
   ]
  },
  {
   "cell_type": "code",
   "execution_count": 21,
   "metadata": {
    "collapsed": true,
    "jupyter": {
     "outputs_hidden": true
    }
   },
   "outputs": [],
   "source": [
    "def fall_drag(state):\n",
    "    '''Computes the right-hand side of the differential equation\n",
    "    for the fall of a ball, with drag, in SI units.\n",
    "    \n",
    "    Arguments\n",
    "    ----------    \n",
    "    state : array of two dependent variables [y v]^T\n",
    "    \n",
    "    Returns\n",
    "    -------\n",
    "    derivs: array of two derivatives [v (-g+a_drag)]^T\n",
    "    '''\n",
    "    R = 0.0661/2 # radius in meters\n",
    "    m = 0.0577   # mass in kilograms\n",
    "    rho = 1.22   # air density kg/m^3\n",
    "    C_d = 0.47   # drag coefficient for a sphere\n",
    "    pi = numpy.pi\n",
    "    \n",
    "    a_drag = 1/(2*m) * pi * R**2 * rho * C_d * (state[1])**2\n",
    "    \n",
    "    derivs = numpy.array([state[1], -9.8 + a_drag])\n",
    "    return derivs"
   ]
  },
  {
   "cell_type": "markdown",
   "metadata": {},
   "source": [
    "Assume the same initial conditions as before:"
   ]
  },
  {
   "cell_type": "code",
   "execution_count": 22,
   "metadata": {
    "collapsed": true,
    "jupyter": {
     "outputs_hidden": true
    }
   },
   "outputs": [],
   "source": [
    "y0 = y[0] # initial position\n",
    "v0 = 0    # initial velocity\n",
    "N = 576   # number of steps"
   ]
  },
  {
   "cell_type": "code",
   "execution_count": 23,
   "metadata": {
    "collapsed": true,
    "jupyter": {
     "outputs_hidden": true
    }
   },
   "outputs": [],
   "source": [
    "# initialize array\n",
    "num_sol_drag = numpy.zeros([N,2])"
   ]
  },
  {
   "cell_type": "code",
   "execution_count": 24,
   "metadata": {
    "collapsed": true,
    "jupyter": {
     "outputs_hidden": true
    }
   },
   "outputs": [],
   "source": [
    "# Set intial conditions\n",
    "num_sol_drag[0,0] = y0\n",
    "num_sol_drag[0,1] = v0"
   ]
  },
  {
   "cell_type": "code",
   "execution_count": 25,
   "metadata": {
    "collapsed": true,
    "jupyter": {
     "outputs_hidden": true
    }
   },
   "outputs": [],
   "source": [
    "for i in range(N-1):\n",
    "    num_sol_drag[i+1] = eulerstep(num_sol_drag[i], fall_drag, dt)"
   ]
  },
  {
   "cell_type": "markdown",
   "metadata": {},
   "source": [
    "Time to plot and see how it looks! Would you expect the results to be better than in the previous case? Let's plot the three cases and check the differences."
   ]
  },
  {
   "cell_type": "code",
   "execution_count": 26,
   "metadata": {},
   "outputs": [
    {
     "data": {
      "image/png": "[encoded data removed]",
      "text/plain": [
       "<matplotlib.figure.Figure at 0x7f0abc7d8668>"
      ]
     },
     "metadata": {},
     "output_type": "display_data"
    }
   ],
   "source": [
    "fig = pyplot.figure(figsize=(6,4))\n",
    "pyplot.plot(t[:N], num_sol[:,0], linewidth=2, linestyle='--', label='Num-solution no drag')\n",
    "pyplot.plot(t[:N], y[:N], linewidth=2, alpha=0.6, label='Experimental data')\n",
    "pyplot.plot(t[:N], num_sol_drag[:,0], linewidth=2, linestyle='--', label='Num-solution drag')\n",
    "\n",
    "pyplot.title('Free fall tennis ball \\n')\n",
    "\n",
    "pyplot.xlabel('Time [s]')\n",
    "pyplot.ylabel('$y$ [m]')\n",
    "pyplot.legend();"
   ]
  },
  {
   "cell_type": "markdown",
   "metadata": {},
   "source": [
    "All the lines look very close… but let's plot the differences with the experimental data in both cases, to get an idea of the error."
   ]
  },
  {
   "cell_type": "code",
   "execution_count": 27,
   "metadata": {},
   "outputs": [
    {
     "data": {
      "image/png": "[encoded data removed]",
      "text/plain": [
       "<matplotlib.figure.Figure at 0x7f0abca42d68>"
      ]
     },
     "metadata": {},
     "output_type": "display_data"
    }
   ],
   "source": [
    "fig = pyplot.figure(figsize=(6,4))\n",
    "pyplot.plot(t[:N], y[:N]-num_sol[:,0], label='No drag')\n",
    "pyplot.plot(t[:N], y[:N]-num_sol_drag[:,0], label='With drag')\n",
    "pyplot.title('Difference between numerical solution and experimental data.\\n')\n",
    "pyplot.xlabel('Time [s]')\n",
    "pyplot.ylabel('$y$ [m]')\n",
    "pyplot.legend();"
   ]
  },
  {
   "cell_type": "markdown",
   "metadata": {},
   "source": [
    "*Discuss with your neighbor*\n",
    "\n",
    "* What do you see in the plot of the difference between the numerical solution and the experimental data?"
   ]
  },
  {
   "cell_type": "markdown",
   "metadata": {},
   "source": [
    "## What we've learned\n",
    "\n",
    "* Integrating an equation of motion numerically.\n",
    "* Drawing multiple plots in one figure,\n",
    "* Solving initial-value problems numerically\n",
    "* Using Euler's method.\n",
    "* Euler's method is a first-order method.\n",
    "* Freefall with air resistance is a more realistic model."
   ]
  },
  {
   "cell_type": "markdown",
   "metadata": {},
   "source": [
    "## References\n",
    "\n",
    "1. _Elementary Mechanics Using Python_ (2015), Anders Malthe-Sorenssen, Undergraduate Lecture Notes in Physics, Springer. Data at http://folk.uio.no/malthe/mechbook/therocket.dat\n",
    "\n",
    "2. _The Physics Hyptertextbook_ (n/a), Glenn Elert, [Acceleration](https://physics.info/acceleration/)\n",
    "\n",
    "3. Euler method. (2017, October 13). In Wikipedia, The Free Encyclopedia. Retrieved 01:21, November 10, 2017, from https://en.wikipedia.org/w/index.php?title=Euler_method&oldid=805120184\n",
    "\n",
    "4. _Computational Physics with Python_, lecture notes by Eric Ayars, California State University, Chico. Available online on the author's website: https://physics.csuchico.edu/ayars/312/handouts/comp-phys-python.pdf"
   ]
  },
  {
   "cell_type": "code",
   "execution_count": 1,
   "metadata": {},
   "outputs": [
    {
     "data": {
      "text/html": [
       "<style>\n",
       "\n",
       "@font-face {\n",
       "    font-family: 'et-book';\n",
       "    src: url('https://cdnjs.cloudflare.com/ajax/libs/tufte-css/1.8.0/et-book/et-book-roman-line-figures/et-book-roman-line-figures.woff') format('woff2'),\n",
       "         url('https://cdnjs.cloudflare.com/ajax/libs/tufte-css/1.8.0/et-book/et-book-roman-line-figures/et-book-roman-line-figures.woff') format('woff');\n",
       "    font-weight: normal;\n",
       "    font-style: normal;\n",
       "}\n",
       "@font-face {\n",
       "    font-family: 'et-book';\n",
       "    src: url('https://cdnjs.cloudflare.com/ajax/libs/tufte-css/1.8.0/et-book/et-book-display-italic-old-style-figures/et-book-display-italic-old-style-figures.woff') format('woff');\n",
       "    font-weight: normal;\n",
       "    font-style: italic;\n",
       "}\n",
       "@font-face {\n",
       "    font-family: 'et-book';\n",
       "    src: url('https://cdnjs.cloudflare.com/ajax/libs/tufte-css/1.8.0/et-book/et-book-bold-line-figures/et-book-bold-line-figures.woff') format('woff');\n",
       "    font-weight: bold;\n",
       "    font-style: normal;\n",
       "}\n",
       "/* The various ET-Book fonts are on GitHub at: https://github.com/edwardtufte/et-book\n",
       "*/\n",
       "@font-face{\n",
       "    font-family: 'Source Code Pro';\n",
       "    font-weight: 400;\n",
       "    font-style: normal;\n",
       "    font-stretch: normal;\n",
       "    src: url('https://raw.githubusercontent.com/adobe-fonts/source-code-pro/release/WOFF2/OTF/SourceCodePro-Regular.otf.woff2') format('woff2'),\n",
       "         url('https://raw.githubusercontent.com/adobe-fonts/source-code-pro/release/WOFF/OTF/SourceCodePro-Regular.otf.woff') format('woff'),\n",
       "         url('https://raw.githubusercontent.com/adobe-fonts/source-code-pro/release/OTF/SourceCodePro-Regular.otf') format('opentype');\n",
       "}\n",
       "\n",
       "@font-face{\n",
       "    font-family: 'Source Sans';\n",
       "    font-weight: 400;\n",
       "    font-style: normal;\n",
       "    font-stretch: normal;\n",
       "    src: url('https://raw.githubusercontent.com/adobe-fonts/source-sans/release/WOFF2/OTF/SourceSans3-Regular.otf.woff2') format('woff2'),\n",
       "         url('https://raw.githubusercontent.com/adobe-fonts/source-sans/release/WOFF/OTF/SourceSans3-Regular.otf.woff') format('woff'),\n",
       "         url('https://raw.githubusercontent.com/adobe-fonts/source-sans/release/OTF/SourceSans3-Regular.otf') format('opentype');\n",
       "}\n",
       "@font-face {\n",
       "    font-family: \"Computer Modern\";\n",
       "    src: url('http://mirrors.ctan.org/fonts/cm-unicode/fonts/otf/cmunss.otf');\n",
       "}\n",
       "\n",
       ":root {\n",
       "    --jp-content-line-height: 1.3;\n",
       "    --jp-content-font-scale-factor: 1.2;\n",
       "    --jp-content-font-size1: 20px; /* Base font size */\n",
       "    --jp-content-font-family: 'et-book', 'Palatino Linotype', Palatino, serif;\n",
       "} \n",
       "\n",
       ".jp-RenderedHTMLCommon {\n",
       "    line-height: 1.3 !important;\n",
       "    font-size: 20px !important;\n",
       "    font-family: 'et-book', 'Palatino Linotype', Palatino, serif;\n",
       "    padding-left: 10% !important;\n",
       "    padding-right: 20% !important;\n",
       "}\n",
       "\n",
       ".jp-CodeCell {\n",
       "    padding-left: 10% !important;\n",
       "    padding-right: 20% !important;\n",
       "}\n",
       "\n",
       ".jp-RawCell {\n",
       "    padding-left: 10% !important;\n",
       "    padding-right: 20% !important;\n",
       "}\n",
       "\n",
       "\n",
       "code {\n",
       "    font-size: 0.8em !important;\n",
       "    background-color: #f0f0f0 !important;\n",
       "}\n",
       "\n",
       "hr {\n",
       "    background: #000;\n",
       "    height: 1px;\n",
       "    border: 0px;\n",
       "} \n",
       "\n",
       "\n",
       "#notebook_panel { /* main background */\n",
       "    background: rgb(245,245,245);\n",
       "}\n",
       "\n",
       "div.cell { /* set cell width */\n",
       "    width: 800px;\n",
       "}\n",
       "\n",
       "div #notebook { /* centre the content */\n",
       "    background: #fff; /* white background for content */\n",
       "    width: 800px;\n",
       "    margin: auto;\n",
       "    padding-left: 0em;\n",
       "}\n",
       "\n",
       "#notebook li { /* More space between bullet points */\n",
       "margin-top:0.5em;\n",
       "}\n",
       "\n",
       "/* draw border around running cells */\n",
       "div.cell.border-box-sizing.code_cell.running { \n",
       "    border: 1px solid #111;\n",
       "}\n",
       "\n",
       "/* Put a solid color box around each cell and its output, visually linking them*/\n",
       "div.cell.code_cell {\n",
       "    background-color: rgb(256,256,256); \n",
       "    border-radius: 0px; \n",
       "    padding: 0.5em;\n",
       "    margin-left:1em;\n",
       "    margin-top: 1em;\n",
       "}\n",
       "\n",
       "\n",
       "div.text_cell_render{\n",
       "    font-family: 'Source Sans', sans-serif;\n",
       "    line-height: 140%;\n",
       "    font-size: 100%;\n",
       "    width:680px;\n",
       "    margin-left:auto;\n",
       "    margin-right:auto;\n",
       "}\n",
       "\n",
       "/* Formatting for header cells */\n",
       ".text_cell_render h1 {\n",
       "    /* font-family: 'Merriweather', serif; */\n",
       "    font-style:regular;\n",
       "    font-weight: bold;    \n",
       "    font-size: 250%;\n",
       "    line-height: 100%;\n",
       "    color: #004065;\n",
       "    margin-bottom: 1em;\n",
       "    margin-top: 0.5em;\n",
       "    display: block;\n",
       "}\t\n",
       ".text_cell_render h2 {\n",
       "    /* font-family: 'Merriweather', serif; */\n",
       "    font-weight: bold; \n",
       "    font-size: 180%;\n",
       "    line-height: 100%;\n",
       "    color: #0096d6;\n",
       "    margin-bottom: 0.5em;\n",
       "    margin-top: 0.5em;\n",
       "    display: block;\n",
       "}\t\n",
       "\n",
       ".text_cell_render h3 {\n",
       "    /* font-family: 'Merriweather', serif; */\n",
       "\tfont-size: 150%;\n",
       "    margin-top:12px;\n",
       "    margin-bottom: 3px;\n",
       "    font-style: regular;\n",
       "    color: #008367;\n",
       "}\n",
       "\n",
       ".text_cell_render h4 {    /*Use this for captions*/\n",
       "    font-family: 'et-book';\n",
       "    font-weight: 300; \n",
       "    font-size: 100%;\n",
       "    line-height: 120%;\n",
       "    text-align: left;\n",
       "    width:500px;\n",
       "    margin-top: 1em;\n",
       "    margin-bottom: 2em;\n",
       "    margin-left: 80pt;\n",
       "    font-style: italic;\n",
       "}\n",
       "\n",
       ".text_cell_render h5 {  /*Use this for small titles*/\n",
       "    font-family: 'Source Sans', sans-serif;\n",
       "    font-size: 130%;\n",
       "    color: #e31937;\n",
       "    margin-bottom: .5em;\n",
       "    margin-top: 1em;\n",
       "    display: block;\n",
       "}\n",
       "\n",
       ".text_cell_render h6 { /*use this for copyright note*/\n",
       "    font-family: 'Source Code Pro', sans-serif;\n",
       "    font-weight: 300;\n",
       "    font-size: 9pt;\n",
       "    line-height: 100%;\n",
       "    color: grey;\n",
       "    margin-bottom: 1px;\n",
       "    margin-top: 1px;\n",
       "}\n",
       "\n",
       "    .CodeMirror{\n",
       "            font-family: \"Source Code Pro\";\n",
       "\t\t\tfont-size: 100%;\n",
       "    }\n",
       "/*    .prompt{\n",
       "        display: None;\n",
       "    }*/\n",
       "\t\n",
       "    \n",
       "    .warning{\n",
       "        color: rgb( 240, 20, 20 )\n",
       "        }  \n",
       "</style>\n",
       "<script>\n",
       "    MathJax.Hub.Config({\n",
       "                        TeX: {\n",
       "                           extensions: [\"AMSmath.js\"], \n",
       "                           equationNumbers: { autoNumber: \"AMS\", useLabelIds: true}\n",
       "                           },\n",
       "                tex2jax: {\n",
       "                    inlineMath: [ ['$','$'], [\"\\\\(\",\"\\\\)\"] ],\n",
       "                    displayMath: [ ['$$','$$'], [\"\\\\[\",\"\\\\]\"] ]\n",
       "                },\n",
       "                displayAlign: 'center', // Change this to 'center' to center equations.\n",
       "                \"HTML-CSS\": {\n",
       "                    styles: {'.MathJax_Display': {\"margin\": 4}}\n",
       "                }\n",
       "        });\n",
       "</script>\n"
      ],
      "text/plain": [
       "<IPython.core.display.HTML object>"
      ]
     },
     "execution_count": 1,
     "metadata": {},
     "output_type": "execute_result"
    }
   ],
   "source": [
    "# Execute this cell to load the notebook's style sheet, then ignore it\n",
    "from IPython.core.display import HTML\n",
    "css_file = '../../../styles/custom.css'\n",
    "HTML(open(css_file, \"r\").read())"
   ]
  }
 ],
 "metadata": {
  "kernelspec": {
   "display_name": "Python 3 (ipykernel)",
   "language": "python",
   "name": "python3"
  },
  "language_info": {
   "codemirror_mode": {
    "name": "ipython",
    "version": 3
   },
   "file_extension": ".py",
   "mimetype": "text/x-python",
   "name": "python",
   "nbconvert_exporter": "python",
   "pygments_lexer": "ipython3",
   "version": "3.11.9"
  }
 },
 "nbformat": 4,
 "nbformat_minor": 4
}
